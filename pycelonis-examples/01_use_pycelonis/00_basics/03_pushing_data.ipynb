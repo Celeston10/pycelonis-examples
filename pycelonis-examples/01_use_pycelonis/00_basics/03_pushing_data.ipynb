{
 "cells": [
  {
   "cell_type": "markdown",
   "metadata": {},
   "source": [
    "## Pushing Data\n",
    "\n",
    "### This tutorial shows how data can be pushed from Python to Celonis. The data is pushed to a Celonis Data Model and can then be used and analyzed in an Analysis. \n",
    "\n",
    "In this to Turial we will: <br>\n",
    "1. First create an exemplary pandas data frame <br>\n",
    "2. Create the connection to the Celonis data model where we want to push the data <br>\n",
    "3. Push the data"
   ]
  },
  {
   "cell_type": "markdown",
   "metadata": {},
   "source": [
    "### Create a pandas dataframe."
   ]
  },
  {
   "cell_type": "code",
   "execution_count": 1,
   "metadata": {},
   "outputs": [
    {
     "data": {
      "text/html": [
       "<div>\n",
       "<style scoped>\n",
       "    .dataframe tbody tr th:only-of-type {\n",
       "        vertical-align: middle;\n",
       "    }\n",
       "\n",
       "    .dataframe tbody tr th {\n",
       "        vertical-align: top;\n",
       "    }\n",
       "\n",
       "    .dataframe thead th {\n",
       "        text-align: right;\n",
       "    }\n",
       "</style>\n",
       "<table border=\"1\" class=\"dataframe\">\n",
       "  <thead>\n",
       "    <tr style=\"text-align: right;\">\n",
       "      <th></th>\n",
       "      <th>A</th>\n",
       "      <th>B</th>\n",
       "      <th>C</th>\n",
       "    </tr>\n",
       "  </thead>\n",
       "  <tbody>\n",
       "    <tr>\n",
       "      <td>0</td>\n",
       "      <td>2</td>\n",
       "      <td>2</td>\n",
       "      <td>10</td>\n",
       "    </tr>\n",
       "    <tr>\n",
       "      <td>1</td>\n",
       "      <td>4</td>\n",
       "      <td>0</td>\n",
       "      <td>2</td>\n",
       "    </tr>\n",
       "    <tr>\n",
       "      <td>2</td>\n",
       "      <td>8</td>\n",
       "      <td>0</td>\n",
       "      <td>1</td>\n",
       "    </tr>\n",
       "    <tr>\n",
       "      <td>3</td>\n",
       "      <td>0</td>\n",
       "      <td>0</td>\n",
       "      <td>8</td>\n",
       "    </tr>\n",
       "  </tbody>\n",
       "</table>\n",
       "</div>"
      ],
      "text/plain": [
       "   A  B   C\n",
       "0  2  2  10\n",
       "1  4  0   2\n",
       "2  8  0   1\n",
       "3  0  0   8"
      ]
     },
     "execution_count": 1,
     "metadata": {},
     "output_type": "execute_result"
    }
   ],
   "source": [
    "import pandas as pd\n",
    "\n",
    "df = pd.DataFrame({'A': [2, 4, 8, 0], 'B': [2, 0, 0, 0], 'C': [10, 2, 1, 8]})\n",
    "df.head()"
   ]
  },
  {
   "cell_type": "markdown",
   "metadata": {},
   "source": [
    "### Connect to Celonis and find the data pool."
   ]
  },
  {
   "cell_type": "code",
   "execution_count": 2,
   "metadata": {},
   "outputs": [
    {
     "name": "stdout",
     "output_type": "stream",
     "text": [
      "2019-10-08 12:11:26 - Login successful! Hello Simon Riezebos\n"
     ]
    }
   ],
   "source": [
    "from pycelonis import get_celonis\n",
    "\n",
    "celonis = get_celonis()"
   ]
  },
  {
   "cell_type": "code",
   "execution_count": 3,
   "metadata": {},
   "outputs": [
    {
     "data": {
      "text/plain": [
       "<Pool, id f8e841e3-26f5-494a-93fd-842252aef176, name SAP ECC - Purchase to Pay (SE HANA SolEng)>"
      ]
     },
     "execution_count": 3,
     "metadata": {},
     "output_type": "execute_result"
    }
   ],
   "source": [
    "data_pool = celonis.pools.find(\"f8e841e3-26f5-494a-93fd-842252aef176\")\n",
    "data_pool"
   ]
  },
  {
   "cell_type": "markdown",
   "metadata": {},
   "source": [
    "### Option 1: Push the data (data pool)\n",
    "\n",
    "We push the data frame to the data pool. For this, we use the push_table() function, which has the following properties:\n",
    "* df_or_path: Either the pandas data frame or the path to a data frame that should be pushed to Celonis\n",
    "* table_name: The name that this data frame should have in the data pool\n",
    "* if_exists: Specifies what happens when the table already exists in the data pool. The options are 'replace', 'append', 'upsert', 'error'\n",
    "\n",
    "The additional parameters (like the setting of primary keys and column types) can be checked by pressing SHIFT + TAB, while the curser is in the function push_table()"
   ]
  },
  {
   "cell_type": "code",
   "execution_count": 4,
   "metadata": {},
   "outputs": [
    {
     "data": {
      "text/plain": [
       "{'id': 'ce9e94c2-a939-4f2e-beba-b043fb1d4732',\n",
       " 'targetName': 'Test_Data',\n",
       " 'lastModified': 1570529501078,\n",
       " 'lastPing': None,\n",
       " 'status': 'DONE',\n",
       " 'type': 'REPLACE',\n",
       " 'fileType': None,\n",
       " 'targetSchema': 'f8e841e3-26f5-494a-93fd-842252aef176',\n",
       " 'dataPoolId': 'f8e841e3-26f5-494a-93fd-842252aef176',\n",
       " 'connectionId': None,\n",
       " 'logs': ['2019-10-08T10:11:41 - Starting execution',\n",
       "  '2019-10-08T10:11:43 - Done loading chunks',\n",
       "  '2019-10-08T10:11:43 - Execution done'],\n",
       " 'csvParsingOptions': None,\n",
       " 'tableSchema': None,\n",
       " 'keys': [],\n",
       " 'optionalTenantId': None}"
      ]
     },
     "execution_count": 4,
     "metadata": {},
     "output_type": "execute_result"
    }
   ],
   "source": [
    "data_pool.push_table(df,\"Test_Data\", if_exists = 'replace')"
   ]
  },
  {
   "cell_type": "markdown",
   "metadata": {},
   "source": [
    "The table is now in the data pool and can be added to any data model in that pool."
   ]
  },
  {
   "cell_type": "markdown",
   "metadata": {},
   "source": [
    "### Option 2: Push the data (data model)\n",
    "We could also directly push the table to the data model. We would first need to find the data model."
   ]
  },
  {
   "cell_type": "code",
   "execution_count": 5,
   "metadata": {},
   "outputs": [
    {
     "data": {
      "text/plain": [
       "<Datamodel, id 3f6ef2f6-6635-49de-aa8c-7090188bb78b, name SAP ECC - Purchase to Pay Data Model>"
      ]
     },
     "execution_count": 5,
     "metadata": {},
     "output_type": "execute_result"
    }
   ],
   "source": [
    "data_model = celonis.datamodels.find(\"3f6ef2f6-6635-49de-aa8c-7090188bb78b\")\n",
    "data_model"
   ]
  },
  {
   "cell_type": "markdown",
   "metadata": {},
   "source": [
    "Use the push_table() function again. Here we have additionally the option to reload the data model."
   ]
  },
  {
   "cell_type": "code",
   "execution_count": 6,
   "metadata": {},
   "outputs": [
    {
     "data": {
      "text/plain": [
       "<DatamodelTable, id 1098542d-3731-4365-8174-1ea6546f5f27, name Test_Data>"
      ]
     },
     "execution_count": 6,
     "metadata": {},
     "output_type": "execute_result"
    }
   ],
   "source": [
    "data_model.push_table(df,\"Test_Data\",reload_datamodel=False, if_exists = 'replace')"
   ]
  }
 ],
 "metadata": {
  "jupytext": {
   "formats": "ipynb,py:percent"
  },
  "kernelspec": {
   "display_name": "Python 3",
   "language": "python",
   "name": "python3"
  },
  "language_info": {
   "codemirror_mode": {
    "name": "ipython",
    "version": 3
   },
   "file_extension": ".py",
   "mimetype": "text/x-python",
   "name": "python",
   "nbconvert_exporter": "python",
   "pygments_lexer": "ipython3",
   "version": "3.6.8"
  }
 },
 "nbformat": 4,
 "nbformat_minor": 2
}